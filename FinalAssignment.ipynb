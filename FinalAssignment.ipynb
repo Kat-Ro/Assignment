{
 "cells": [
  {
   "cell_type": "markdown",
   "metadata": {},
   "source": [
    "<center>\n",
    "    <img src=\"https://cf-courses-data.s3.us.cloud-object-storage.appdomain.cloud/IBMDeveloperSkillsNetwork-DS0105EN-SkillsNetwork/labs/Module2/images/SN_web_lightmode.png\" width=\"300\" alt=\"cognitiveclass.ai logo\"  />\n",
    "</center>\n"
   ]
  },
  {
   "cell_type": "markdown",
   "metadata": {},
   "source": [
    "#### Add your code below following the instructions given in the course\n"
   ]
  },
  {
   "cell_type": "markdown",
   "metadata": {},
   "source": [
    "# My Jupyter Notebook on IBM Watson Studio"
   ]
  },
  {
   "cell_type": "markdown",
   "metadata": {},
   "source": [
    "**Kat Ro**  \n",
    "Researcher and Data Scientist"
   ]
  },
  {
   "cell_type": "markdown",
   "metadata": {},
   "source": [
    "*I am interested in Data Science because it allows me to turn data into knowledge and helping companies run their plants more sustainably.*"
   ]
  },
  {
   "cell_type": "markdown",
   "metadata": {},
   "source": [
    "### The following code prints the output of a simple calculation. "
   ]
  },
  {
   "cell_type": "code",
   "execution_count": 1,
   "metadata": {},
   "outputs": [
    {
     "name": "stdout",
     "output_type": "stream",
     "text": [
      "7.5\n"
     ]
    }
   ],
   "source": [
    "#define variables a and b\n",
    "a = 2\n",
    "b = 5.5\n",
    "#calculate sum of both variables\n",
    "c = a + b\n",
    "# print sum\n",
    "print(c)"
   ]
  },
  {
   "cell_type": "markdown",
   "metadata": {},
   "source": [
    "Items covered in this course:\n",
    "1. Jupyter Notebooks\n",
    "2. R and RStudio\n",
    "3. IBM Watson\n",
    "\n",
    "Items no covered in this course:\n",
    "- Writing shopping lists\n",
    "- How to draw a cat\n",
    "- ~~~How to build a chair~~~\n",
    "\n",
    "[Click me to get to the IBM website](https://ibm.com)\n",
    "\n",
    "```python\n",
    "#Showing block code in markdown cell\n",
    "a = 2\n",
    "b = 5.5\n",
    "c = a + b\n",
    "print(c)\n",
    "```\n",
    "\n",
    "\n",
    "|This|Table|Is|Empty|\n",
    "|----|-----|--|-----|\n",
    "|A   |B    |z |1    |\n",
    "\n",
    "\n",
    "> Block quotes look wonderful.\n",
    "---\n",
    "---\n",
    "---"
   ]
  }
 ],
 "metadata": {
  "kernelspec": {
   "display_name": "Python 3 (ipykernel)",
   "language": "python",
   "name": "python3"
  },
  "language_info": {
   "codemirror_mode": {
    "name": "ipython",
    "version": 3
   },
   "file_extension": ".py",
   "mimetype": "text/x-python",
   "name": "python",
   "nbconvert_exporter": "python",
   "pygments_lexer": "ipython3",
   "version": "3.9.13"
  }
 },
 "nbformat": 4,
 "nbformat_minor": 4
}
